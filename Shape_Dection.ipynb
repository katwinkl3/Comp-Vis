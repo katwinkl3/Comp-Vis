{
 "cells": [
  {
   "cell_type": "markdown",
   "metadata": {},
   "source": [
    "## Contents\n",
    "1. [Algorithm](#algo)\n",
    "2. [Explanation](#exp)"
   ]
  },
  {
   "cell_type": "markdown",
   "metadata": {},
   "source": [
    "### Classification Algorithm\n",
    "<a id='algo'></a>"
   ]
  },
  {
   "cell_type": "code",
   "execution_count": 93,
   "metadata": {},
   "outputs": [
    {
     "data": {
      "text/plain": [
       "(0, 2, 0)"
      ]
     },
     "execution_count": 93,
     "metadata": {},
     "output_type": "execute_result"
    }
   ],
   "source": [
    "import cv2\n",
    "import numpy as np\n",
    "from skimage import io\n",
    "\n",
    "image_path = \"image.jpg\"\n",
    "\n",
    "def shape_recognition(path, threshold=800):\n",
    "    '''\n",
    "    Input:\n",
    "        path [str]: file path \n",
    "        \n",
    "    Output:\n",
    "        tuple containing the number of squares, circles and triangle\n",
    "        \n",
    "    Method:\n",
    "        1. Preprocessing of image to eliminate lines/dots in the background and to close up gaps in teh shapes\n",
    "        2. Drawing contours on potential shapes and approximating these to reduce 'unnatural' edges\n",
    "        3. For each identified shape, eliminate if the size is too large (detected the frame), or too small (noise)\n",
    "        4. Count the number of edges for each of these shapes to identify if its a square, circle, or triangle\n",
    "    '''\n",
    "    \n",
    "    # Reading the image in and transforming pixel values into binary for contrast\n",
    "    \n",
    "    img = cv2.imread(path, cv2.IMREAD_GRAYSCALE)\n",
    "    _, img = cv2.threshold(img, 0, 255, cv2.THRESH_BINARY_INV|cv2.THRESH_OTSU)\n",
    "    \n",
    "    # Image prepocessing with morphology transformations\n",
    "    \n",
    "    kernel = np.ones((5,5),np.uint8)\n",
    "    img = cv2.morphologyEx(img, cv2.MORPH_CLOSE, kernel)\n",
    "    img = cv2.morphologyEx(img, cv2.MORPH_OPEN, kernel)\n",
    "\n",
    "    # Collect the number of edges and size of the shape and fit these into an array\n",
    "    \n",
    "    shapes = [] \n",
    "    contours,hierarchy = cv2.findContours(img, 1, 2)\n",
    "    # for each contour,approximate the outlines and count the edges and surface area\n",
    "    for cnt in contours:\n",
    "        approx = cv2.approxPolyDP(cnt, 0.01*cv2.arcLength(cnt, True), True)\n",
    "        cv2.drawContours(img, [approx], 0, (1), 5)\n",
    "        x = approx.ravel()[0]\n",
    "        y = approx.ravel()[1]\n",
    "        shapes.append((cv2.contourArea(cnt), len(approx)))\n",
    "        \n",
    "    # Find shapes with area above a threshold value, and classify based on no. of edges\n",
    "    \n",
    "    squares, circles, triangles = 0,0,0\n",
    "    shapes.sort(key=lambda x: x[0])\n",
    "    for shape in shapes[::-1]:\n",
    "        if shape[0] < 240000 and shape[0] > threshold:\n",
    "            if shape[1] == 3:\n",
    "                triangles += 1\n",
    "            elif shape[1] == 4:\n",
    "                squares += 1\n",
    "            else:\n",
    "                circles += 1\n",
    "                \n",
    "    return (squares, circles, triangles)\n",
    "        \n",
    "\n",
    "shape_recognition(image_path)"
   ]
  },
  {
   "cell_type": "markdown",
   "metadata": {},
   "source": [
    "### Further Explanation\n",
    "<a id='exp'></a>\n",
    "\n",
    "#### Choice of Algorithm:\n",
    "\n",
    "I chose the cv2 library to draw a contour over potential shapes and this is done through a topological analysis of digitized binary images, thus making it one of the more efficient solutions. To maximize accuracy, the images should be as clean as possible, so that background noise will not be identified as shapes. This is done through morphological transformation that processes binary pixels against their neighbours to 'close' gaps and 'open' up shape links. However, the denoising is not perfect; many of the images still retain severed lines/dots after the processing. Hence, a threshold is defined to eliminate shapes that are too small to avoid non-shapes. The downside to this is that smaller shapes will be ignored. The threshold thus serve as a control for false positive vs false negatives. If cleaning was more properly done, this will not be needed. Alternatively, instead of making use of size, we can check whether the shape detected is solid, in other words, if its center pixels have the same color as its perimeter. I have not yet found a good way of dealing with this while using cv2.findContours. Another approach I have considered is to use a gaussian blur to remove the noise, but this will compromise the struture of the shapes, leading to more than expected number of edges. \n",
    "\n",
    "#### Alternative Considerations:\n",
    "\n",
    "The first thought that came to mind for shape detection is to use image gradients to detect the directions of each shape. Feature detection algorithms like SIFT might be considered but I am not sure of its performance on binary images. For a brief moment, I did consider using neural networks but that seemed slightly excessive since that will require a lot of data and images with pure shapes will need manual generation and that seems like a lot of work. Also, since shape detection ultimately have some underlying maths explanation (circles have ~10 edges approximated, while squares have 4, or squares have 90 degress slants while triangles have <90 degree slopes), it might be better to uncover these using algorithms than NNs. \n"
   ]
  }
 ],
 "metadata": {
  "kernelspec": {
   "display_name": "Python 3",
   "language": "python",
   "name": "python3"
  },
  "language_info": {
   "codemirror_mode": {
    "name": "ipython",
    "version": 3
   },
   "file_extension": ".py",
   "mimetype": "text/x-python",
   "name": "python",
   "nbconvert_exporter": "python",
   "pygments_lexer": "ipython3",
   "version": "3.6.5"
  }
 },
 "nbformat": 4,
 "nbformat_minor": 2
}
